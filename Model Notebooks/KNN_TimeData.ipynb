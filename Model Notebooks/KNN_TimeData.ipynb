{
 "cells": [
  {
   "cell_type": "markdown",
   "metadata": {},
   "source": [
    "# Imports"
   ]
  },
  {
   "cell_type": "code",
   "execution_count": 11,
   "metadata": {},
   "outputs": [],
   "source": [
    "# Data Processing\n",
    "import pandas as pd\n",
    "\n",
    "# ML Tools\n",
    "from sklearn.model_selection import train_test_split\n",
    "from sklearn.preprocessing import StandardScaler\n",
    "import numpy as np\n",
    "\n",
    "# ML Algorithm\n",
    "from sklearn.neighbors import KNeighborsClassifier\n",
    "\n",
    "# ML Evaluation\n",
    "from sklearn.model_selection import cross_val_score\n",
    "from sklearn.model_selection import cross_val_predict\n",
    "from sklearn.metrics import classification_report\n",
    "from sklearn.metrics import confusion_matrix\n",
    "from sklearn.metrics import classification_report\n",
    "from sklearn.metrics import precision_recall_curve\n",
    "from sklearn.metrics import roc_curve\n",
    "from sklearn.metrics import roc_auc_score\n",
    "from sklearn.metrics import RocCurveDisplay\n",
    "from sklearn.metrics import auc\n",
    "from sklearn.metrics import plot_confusion_matrix\n",
    "from sklearn.metrics import r2_score\n",
    "from sklearn.metrics import precision_recall_fscore_support\n",
    "\n",
    "# Visualizations\n",
    "from matplotlib import pyplot as plt\n",
    "\n",
    "# Saves the Model\n",
    "import pickle"
   ]
  },
  {
   "cell_type": "markdown",
   "metadata": {},
   "source": [
    "# Loads Data"
   ]
  },
  {
   "cell_type": "code",
   "execution_count": 12,
   "metadata": {},
   "outputs": [
    {
     "data": {
      "text/html": [
       "<div>\n",
       "<style scoped>\n",
       "    .dataframe tbody tr th:only-of-type {\n",
       "        vertical-align: middle;\n",
       "    }\n",
       "\n",
       "    .dataframe tbody tr th {\n",
       "        vertical-align: top;\n",
       "    }\n",
       "\n",
       "    .dataframe thead th {\n",
       "        text-align: right;\n",
       "    }\n",
       "</style>\n",
       "<table border=\"1\" class=\"dataframe\">\n",
       "  <thead>\n",
       "    <tr style=\"text-align: right;\">\n",
       "      <th></th>\n",
       "      <th>Season</th>\n",
       "      <th>Season Encoding</th>\n",
       "      <th>Date</th>\n",
       "      <th>YearOfSeason</th>\n",
       "      <th>Time</th>\n",
       "      <th>Time Encoding</th>\n",
       "      <th>HomeTeam</th>\n",
       "      <th>HomeTeam Encoding</th>\n",
       "      <th>AwayTeam</th>\n",
       "      <th>AwayTeam Encoding</th>\n",
       "      <th>...</th>\n",
       "      <th>HST</th>\n",
       "      <th>AST</th>\n",
       "      <th>HF</th>\n",
       "      <th>AF</th>\n",
       "      <th>HC</th>\n",
       "      <th>AC</th>\n",
       "      <th>HY</th>\n",
       "      <th>AY</th>\n",
       "      <th>HR</th>\n",
       "      <th>AR</th>\n",
       "    </tr>\n",
       "  </thead>\n",
       "  <tbody>\n",
       "    <tr>\n",
       "      <th>0</th>\n",
       "      <td>Fall</td>\n",
       "      <td>0</td>\n",
       "      <td>12/09/2020</td>\n",
       "      <td>2020/21</td>\n",
       "      <td>Afternoon</td>\n",
       "      <td>0</td>\n",
       "      <td>Fulham</td>\n",
       "      <td>8</td>\n",
       "      <td>Arsenal</td>\n",
       "      <td>0</td>\n",
       "      <td>...</td>\n",
       "      <td>2.0</td>\n",
       "      <td>6.0</td>\n",
       "      <td>12.0</td>\n",
       "      <td>12.0</td>\n",
       "      <td>2.0</td>\n",
       "      <td>3.0</td>\n",
       "      <td>2.0</td>\n",
       "      <td>2.0</td>\n",
       "      <td>0.0</td>\n",
       "      <td>0.0</td>\n",
       "    </tr>\n",
       "    <tr>\n",
       "      <th>1</th>\n",
       "      <td>Fall</td>\n",
       "      <td>0</td>\n",
       "      <td>12/09/2020</td>\n",
       "      <td>2020/21</td>\n",
       "      <td>Late-Day</td>\n",
       "      <td>2</td>\n",
       "      <td>Crystal Palace</td>\n",
       "      <td>6</td>\n",
       "      <td>Southampton</td>\n",
       "      <td>21</td>\n",
       "      <td>...</td>\n",
       "      <td>3.0</td>\n",
       "      <td>5.0</td>\n",
       "      <td>14.0</td>\n",
       "      <td>11.0</td>\n",
       "      <td>7.0</td>\n",
       "      <td>3.0</td>\n",
       "      <td>2.0</td>\n",
       "      <td>1.0</td>\n",
       "      <td>0.0</td>\n",
       "      <td>0.0</td>\n",
       "    </tr>\n",
       "    <tr>\n",
       "      <th>2</th>\n",
       "      <td>Fall</td>\n",
       "      <td>0</td>\n",
       "      <td>12/09/2020</td>\n",
       "      <td>2020/21</td>\n",
       "      <td>Late-Day</td>\n",
       "      <td>2</td>\n",
       "      <td>Liverpool</td>\n",
       "      <td>13</td>\n",
       "      <td>Leeds</td>\n",
       "      <td>11</td>\n",
       "      <td>...</td>\n",
       "      <td>6.0</td>\n",
       "      <td>3.0</td>\n",
       "      <td>9.0</td>\n",
       "      <td>6.0</td>\n",
       "      <td>9.0</td>\n",
       "      <td>0.0</td>\n",
       "      <td>1.0</td>\n",
       "      <td>0.0</td>\n",
       "      <td>0.0</td>\n",
       "      <td>0.0</td>\n",
       "    </tr>\n",
       "    <tr>\n",
       "      <th>3</th>\n",
       "      <td>Fall</td>\n",
       "      <td>0</td>\n",
       "      <td>12/09/2020</td>\n",
       "      <td>2020/21</td>\n",
       "      <td>Late-Day</td>\n",
       "      <td>2</td>\n",
       "      <td>West Ham</td>\n",
       "      <td>28</td>\n",
       "      <td>Newcastle</td>\n",
       "      <td>17</td>\n",
       "      <td>...</td>\n",
       "      <td>3.0</td>\n",
       "      <td>2.0</td>\n",
       "      <td>13.0</td>\n",
       "      <td>7.0</td>\n",
       "      <td>8.0</td>\n",
       "      <td>7.0</td>\n",
       "      <td>2.0</td>\n",
       "      <td>2.0</td>\n",
       "      <td>0.0</td>\n",
       "      <td>0.0</td>\n",
       "    </tr>\n",
       "    <tr>\n",
       "      <th>4</th>\n",
       "      <td>Fall</td>\n",
       "      <td>0</td>\n",
       "      <td>13/09/2020</td>\n",
       "      <td>2020/21</td>\n",
       "      <td>Mid-Day</td>\n",
       "      <td>1</td>\n",
       "      <td>West Brom</td>\n",
       "      <td>27</td>\n",
       "      <td>Leicester</td>\n",
       "      <td>12</td>\n",
       "      <td>...</td>\n",
       "      <td>1.0</td>\n",
       "      <td>7.0</td>\n",
       "      <td>12.0</td>\n",
       "      <td>9.0</td>\n",
       "      <td>2.0</td>\n",
       "      <td>5.0</td>\n",
       "      <td>1.0</td>\n",
       "      <td>1.0</td>\n",
       "      <td>0.0</td>\n",
       "      <td>0.0</td>\n",
       "    </tr>\n",
       "    <tr>\n",
       "      <th>...</th>\n",
       "      <td>...</td>\n",
       "      <td>...</td>\n",
       "      <td>...</td>\n",
       "      <td>...</td>\n",
       "      <td>...</td>\n",
       "      <td>...</td>\n",
       "      <td>...</td>\n",
       "      <td>...</td>\n",
       "      <td>...</td>\n",
       "      <td>...</td>\n",
       "      <td>...</td>\n",
       "      <td>...</td>\n",
       "      <td>...</td>\n",
       "      <td>...</td>\n",
       "      <td>...</td>\n",
       "      <td>...</td>\n",
       "      <td>...</td>\n",
       "      <td>...</td>\n",
       "      <td>...</td>\n",
       "      <td>...</td>\n",
       "      <td>...</td>\n",
       "    </tr>\n",
       "    <tr>\n",
       "      <th>755</th>\n",
       "      <td>Summer</td>\n",
       "      <td>3</td>\n",
       "      <td>26/07/2020</td>\n",
       "      <td>2019/20</td>\n",
       "      <td>Mid-Day</td>\n",
       "      <td>1</td>\n",
       "      <td>Leicester</td>\n",
       "      <td>12</td>\n",
       "      <td>Man United</td>\n",
       "      <td>15</td>\n",
       "      <td>...</td>\n",
       "      <td>3.0</td>\n",
       "      <td>3.0</td>\n",
       "      <td>12.0</td>\n",
       "      <td>11.0</td>\n",
       "      <td>3.0</td>\n",
       "      <td>3.0</td>\n",
       "      <td>1.0</td>\n",
       "      <td>4.0</td>\n",
       "      <td>1.0</td>\n",
       "      <td>0.0</td>\n",
       "    </tr>\n",
       "    <tr>\n",
       "      <th>756</th>\n",
       "      <td>Summer</td>\n",
       "      <td>3</td>\n",
       "      <td>26/07/2020</td>\n",
       "      <td>2019/20</td>\n",
       "      <td>Mid-Day</td>\n",
       "      <td>1</td>\n",
       "      <td>Man City</td>\n",
       "      <td>14</td>\n",
       "      <td>Norwich</td>\n",
       "      <td>18</td>\n",
       "      <td>...</td>\n",
       "      <td>10.0</td>\n",
       "      <td>4.0</td>\n",
       "      <td>7.0</td>\n",
       "      <td>4.0</td>\n",
       "      <td>9.0</td>\n",
       "      <td>0.0</td>\n",
       "      <td>1.0</td>\n",
       "      <td>1.0</td>\n",
       "      <td>0.0</td>\n",
       "      <td>0.0</td>\n",
       "    </tr>\n",
       "    <tr>\n",
       "      <th>757</th>\n",
       "      <td>Summer</td>\n",
       "      <td>3</td>\n",
       "      <td>26/07/2020</td>\n",
       "      <td>2019/20</td>\n",
       "      <td>Mid-Day</td>\n",
       "      <td>1</td>\n",
       "      <td>Newcastle</td>\n",
       "      <td>17</td>\n",
       "      <td>Liverpool</td>\n",
       "      <td>13</td>\n",
       "      <td>...</td>\n",
       "      <td>2.0</td>\n",
       "      <td>6.0</td>\n",
       "      <td>11.0</td>\n",
       "      <td>5.0</td>\n",
       "      <td>2.0</td>\n",
       "      <td>4.0</td>\n",
       "      <td>1.0</td>\n",
       "      <td>0.0</td>\n",
       "      <td>0.0</td>\n",
       "      <td>0.0</td>\n",
       "    </tr>\n",
       "    <tr>\n",
       "      <th>758</th>\n",
       "      <td>Summer</td>\n",
       "      <td>3</td>\n",
       "      <td>26/07/2020</td>\n",
       "      <td>2019/20</td>\n",
       "      <td>Mid-Day</td>\n",
       "      <td>1</td>\n",
       "      <td>Southampton</td>\n",
       "      <td>21</td>\n",
       "      <td>Sheffield United</td>\n",
       "      <td>20</td>\n",
       "      <td>...</td>\n",
       "      <td>4.0</td>\n",
       "      <td>3.0</td>\n",
       "      <td>9.0</td>\n",
       "      <td>16.0</td>\n",
       "      <td>9.0</td>\n",
       "      <td>1.0</td>\n",
       "      <td>0.0</td>\n",
       "      <td>1.0</td>\n",
       "      <td>0.0</td>\n",
       "      <td>0.0</td>\n",
       "    </tr>\n",
       "    <tr>\n",
       "      <th>759</th>\n",
       "      <td>Summer</td>\n",
       "      <td>3</td>\n",
       "      <td>26/07/2020</td>\n",
       "      <td>2019/20</td>\n",
       "      <td>Mid-Day</td>\n",
       "      <td>1</td>\n",
       "      <td>West Ham</td>\n",
       "      <td>28</td>\n",
       "      <td>Aston Villa</td>\n",
       "      <td>-1</td>\n",
       "      <td>...</td>\n",
       "      <td>1.0</td>\n",
       "      <td>4.0</td>\n",
       "      <td>16.0</td>\n",
       "      <td>13.0</td>\n",
       "      <td>0.0</td>\n",
       "      <td>7.0</td>\n",
       "      <td>2.0</td>\n",
       "      <td>1.0</td>\n",
       "      <td>0.0</td>\n",
       "      <td>0.0</td>\n",
       "    </tr>\n",
       "  </tbody>\n",
       "</table>\n",
       "<p>760 rows × 32 columns</p>\n",
       "</div>"
      ],
      "text/plain": [
       "     Season  Season Encoding        Date YearOfSeason       Time  \\\n",
       "0      Fall                0  12/09/2020      2020/21  Afternoon   \n",
       "1      Fall                0  12/09/2020      2020/21   Late-Day   \n",
       "2      Fall                0  12/09/2020      2020/21   Late-Day   \n",
       "3      Fall                0  12/09/2020      2020/21   Late-Day   \n",
       "4      Fall                0  13/09/2020      2020/21    Mid-Day   \n",
       "..      ...              ...         ...          ...        ...   \n",
       "755  Summer                3  26/07/2020      2019/20    Mid-Day   \n",
       "756  Summer                3  26/07/2020      2019/20    Mid-Day   \n",
       "757  Summer                3  26/07/2020      2019/20    Mid-Day   \n",
       "758  Summer                3  26/07/2020      2019/20    Mid-Day   \n",
       "759  Summer                3  26/07/2020      2019/20    Mid-Day   \n",
       "\n",
       "     Time Encoding        HomeTeam  HomeTeam Encoding          AwayTeam  \\\n",
       "0                0          Fulham                  8           Arsenal   \n",
       "1                2  Crystal Palace                  6       Southampton   \n",
       "2                2       Liverpool                 13             Leeds   \n",
       "3                2        West Ham                 28         Newcastle   \n",
       "4                1       West Brom                 27         Leicester   \n",
       "..             ...             ...                ...               ...   \n",
       "755              1       Leicester                 12        Man United   \n",
       "756              1        Man City                 14           Norwich   \n",
       "757              1       Newcastle                 17         Liverpool   \n",
       "758              1     Southampton                 21  Sheffield United   \n",
       "759              1        West Ham                 28       Aston Villa   \n",
       "\n",
       "     AwayTeam Encoding  ...   HST  AST    HF    AF   HC   AC   HY   AY   HR  \\\n",
       "0                    0  ...   2.0  6.0  12.0  12.0  2.0  3.0  2.0  2.0  0.0   \n",
       "1                   21  ...   3.0  5.0  14.0  11.0  7.0  3.0  2.0  1.0  0.0   \n",
       "2                   11  ...   6.0  3.0   9.0   6.0  9.0  0.0  1.0  0.0  0.0   \n",
       "3                   17  ...   3.0  2.0  13.0   7.0  8.0  7.0  2.0  2.0  0.0   \n",
       "4                   12  ...   1.0  7.0  12.0   9.0  2.0  5.0  1.0  1.0  0.0   \n",
       "..                 ...  ...   ...  ...   ...   ...  ...  ...  ...  ...  ...   \n",
       "755                 15  ...   3.0  3.0  12.0  11.0  3.0  3.0  1.0  4.0  1.0   \n",
       "756                 18  ...  10.0  4.0   7.0   4.0  9.0  0.0  1.0  1.0  0.0   \n",
       "757                 13  ...   2.0  6.0  11.0   5.0  2.0  4.0  1.0  0.0  0.0   \n",
       "758                 20  ...   4.0  3.0   9.0  16.0  9.0  1.0  0.0  1.0  0.0   \n",
       "759                 -1  ...   1.0  4.0  16.0  13.0  0.0  7.0  2.0  1.0  0.0   \n",
       "\n",
       "      AR  \n",
       "0    0.0  \n",
       "1    0.0  \n",
       "2    0.0  \n",
       "3    0.0  \n",
       "4    0.0  \n",
       "..   ...  \n",
       "755  0.0  \n",
       "756  0.0  \n",
       "757  0.0  \n",
       "758  0.0  \n",
       "759  0.0  \n",
       "\n",
       "[760 rows x 32 columns]"
      ]
     },
     "execution_count": 12,
     "metadata": {},
     "output_type": "execute_result"
    }
   ],
   "source": [
    "df = pd.read_csv(r'C:/Users/Jake/Desktop/Notebooks/EPL Prediction Model/Data/Encoded_EPL_DataWithTime.csv')\n",
    "\n",
    "# Had this column get created upon loading, just dropped it\n",
    "df = df.drop(columns=[\"Unnamed: 0\"]) \n",
    "df"
   ]
  },
  {
   "cell_type": "markdown",
   "metadata": {},
   "source": [
    "# Splits Data"
   ]
  },
  {
   "cell_type": "code",
   "execution_count": 13,
   "metadata": {},
   "outputs": [],
   "source": [
    "# Features -- Drops FTR and any categorical value \n",
    "X = df.drop(columns=[\"Season\", \"YearOfSeason\", \"Time\",\"Date\", \"HTHG\",\"HTAG\" ,\"FTHG\",\"FTAG\" ,\"HomeTeam\", \"AwayTeam\", \"Referee\", \"FTR\", \"FTR Encoding\", \"HTR\", \"Referee\"])\n",
    "\n",
    "# Labels\n",
    "y = df[\"FTR Encoding\"]"
   ]
  },
  {
   "cell_type": "code",
   "execution_count": 14,
   "metadata": {},
   "outputs": [],
   "source": [
    "X_train,X_test,y_train,y_test=train_test_split(X,y,test_size=0.2,random_state=42)"
   ]
  },
  {
   "cell_type": "markdown",
   "metadata": {},
   "source": [
    "# Scales the Data"
   ]
  },
  {
   "cell_type": "code",
   "execution_count": 15,
   "metadata": {},
   "outputs": [],
   "source": [
    "scaler = StandardScaler()\n",
    "\n",
    "X_train = scaler.fit_transform(X_train)\n",
    "X_test = scaler.fit_transform(X_test)"
   ]
  },
  {
   "cell_type": "markdown",
   "metadata": {},
   "source": [
    "# Create the Model & Train the Model"
   ]
  },
  {
   "cell_type": "code",
   "execution_count": 16,
   "metadata": {},
   "outputs": [
    {
     "data": {
      "text/plain": [
       "array([1, 1, 1, 0, 0, 0, 1, 0, 0, 1, 1, 0, 0, 1, 0, 1, 1, 0, 0, 0, 0, 1,\n",
       "       0, 0, 1, 1, 0, 0, 0, 0, 1, 1, 0, 0, 1, 0, 0, 1, 1, 1, 0, 1, 0, 1,\n",
       "       1, 0, 1, 0, 2, 1, 0, 0, 0, 0, 1, 0, 0, 1, 1, 0, 1, 0, 1, 0, 1, 0,\n",
       "       0, 1, 1, 1, 1, 0, 1, 1, 0, 0, 1, 0, 0, 0, 0, 0, 0, 1, 1, 2, 1, 1,\n",
       "       1, 1, 0, 0, 1, 0, 0, 1, 0, 1, 0, 1, 1, 1, 0, 0, 1, 0, 1, 0, 0, 0,\n",
       "       0, 1, 1, 0, 0, 0, 1, 0, 1, 0, 0, 1, 0, 1, 0, 0, 0, 1, 0, 1, 0, 0,\n",
       "       0, 0, 1, 1, 0, 0, 0, 1, 0, 0, 0, 1, 0, 1, 1, 1, 1, 0, 0, 1],\n",
       "      dtype=int64)"
      ]
     },
     "execution_count": 16,
     "metadata": {},
     "output_type": "execute_result"
    }
   ],
   "source": [
    "knn_clf = KNeighborsClassifier(n_neighbors=50, weights='distance', algorithm='auto')\n",
    "\n",
    "knn_clf.fit(X_train,y_train)\n",
    "\n",
    "results = knn_clf.predict(X_test)\n",
    "results"
   ]
  },
  {
   "cell_type": "markdown",
   "metadata": {},
   "source": [
    "# Evaluate the Model"
   ]
  },
  {
   "cell_type": "code",
   "execution_count": 17,
   "metadata": {},
   "outputs": [
    {
     "name": "stdout",
     "output_type": "stream",
     "text": [
      "0.5855263157894737\n"
     ]
    }
   ],
   "source": [
    "score = knn_clf.score(X_test, y_test)\n",
    "\n",
    "print(score)"
   ]
  },
  {
   "cell_type": "markdown",
   "metadata": {},
   "source": [
    "##### Confusion Matrix"
   ]
  },
  {
   "cell_type": "code",
   "execution_count": 18,
   "metadata": {},
   "outputs": [
    {
     "name": "stdout",
     "output_type": "stream",
     "text": [
      "Confusion matrix, without normalization\n",
      "[[49 10  0]\n",
      " [13 40  2]\n",
      " [21 17  0]]\n"
     ]
    },
    {
     "data": {
      "image/png": "[encoded data removed]",
      "text/plain": [
       "<Figure size 432x288 with 2 Axes>"
      ]
     },
     "metadata": {
      "needs_background": "light"
     },
     "output_type": "display_data"
    },
    {
     "name": "stdout",
     "output_type": "stream",
     "text": [
      "Normalized confusion matrix\n",
      "[[0.83050847 0.16949153 0.        ]\n",
      " [0.23636364 0.72727273 0.03636364]\n",
      " [0.55263158 0.44736842 0.        ]]\n"
     ]
    },
    {
     "data": {
      "image/png": "[encoded data removed]",
      "text/plain": [
       "<Figure size 432x288 with 2 Axes>"
      ]
     },
     "metadata": {
      "needs_background": "light"
     },
     "output_type": "display_data"
    }
   ],
   "source": [
    "titles_options = [(\"Confusion matrix, without normalization\", None),\n",
    "                  (\"Normalized confusion matrix\", 'true')]\n",
    "\n",
    "class_names=['Home-Wins', 'Away-Wins', 'Draws']\n",
    "\n",
    "\n",
    "for title, normalize in titles_options:\n",
    "    disp = plot_confusion_matrix(knn_clf, X_test, y_test,\n",
    "                                 display_labels=class_names,\n",
    "                                 cmap=plt.cm.Blues,\n",
    "                                 normalize=normalize)\n",
    "    \n",
    "    disp.ax_.set_title(title)\n",
    "\n",
    "    print(title)\n",
    "    print(disp.confusion_matrix)\n",
    "\n",
    "    plt.show()"
   ]
  },
  {
   "cell_type": "markdown",
   "metadata": {},
   "source": [
    "##### Precision, Recall, F1"
   ]
  },
  {
   "cell_type": "code",
   "execution_count": 19,
   "metadata": {},
   "outputs": [
    {
     "data": {
      "text/plain": [
       "(0.3957921237187556, 0.5192604006163328, 0.44862618332948506, None)"
      ]
     },
     "execution_count": 19,
     "metadata": {},
     "output_type": "execute_result"
    }
   ],
   "source": [
    "p_r_f = precision_recall_fscore_support(y_test, results, average='macro')\n",
    "p_r_f"
   ]
  },
  {
   "cell_type": "code",
   "execution_count": 20,
   "metadata": {},
   "outputs": [
    {
     "name": "stdout",
     "output_type": "stream",
     "text": [
      "              precision    recall  f1-score   support\n",
      "\n",
      "           0       0.59      0.83      0.69        59\n",
      "           1       0.60      0.73      0.66        55\n",
      "           2       0.00      0.00      0.00        38\n",
      "\n",
      "    accuracy                           0.59       152\n",
      "   macro avg       0.40      0.52      0.45       152\n",
      "weighted avg       0.45      0.59      0.51       152\n",
      "\n"
     ]
    }
   ],
   "source": [
    "print(classification_report(y_test, results))"
   ]
  },
  {
   "cell_type": "markdown",
   "metadata": {},
   "source": [
    "##### R-Squared & Adjusted R-Squared"
   ]
  },
  {
   "cell_type": "code",
   "execution_count": 21,
   "metadata": {},
   "outputs": [
    {
     "name": "stdout",
     "output_type": "stream",
     "text": [
      "R^2: -0.5688191756637471\n"
     ]
    }
   ],
   "source": [
    "r2 = r2_score(y_train[:len(results)], results[:len(results)])\n",
    "print(\"R^2: \" + str(r2))"
   ]
  },
  {
   "cell_type": "code",
   "execution_count": 22,
   "metadata": {},
   "outputs": [
    {
     "name": "stdout",
     "output_type": "stream",
     "text": [
      "Adjusted R^2: -0.9906865170187042\n"
     ]
    }
   ],
   "source": [
    "# n = number of sample size\n",
    "# p = number of independent variables\n",
    "#Adj_r2 = 1-(1-R2)*(n-1)/(n-p-1)\n",
    "\n",
    "adjusted_r2 = 1 - ((1-r2) * (len(results) - 1) / (len(results) - len(df.columns.tolist()) - 1) )\n",
    "print('Adjusted R^2: ' + str(adjusted_r2))"
   ]
  },
  {
   "cell_type": "markdown",
   "metadata": {},
   "source": [
    "##### FPR & TPR Rates"
   ]
  },
  {
   "cell_type": "code",
   "execution_count": 23,
   "metadata": {},
   "outputs": [],
   "source": [
    "fpr, tpr, thresholds = roc_curve(y_test, results, pos_label=2)"
   ]
  },
  {
   "cell_type": "code",
   "execution_count": 24,
   "metadata": {},
   "outputs": [
    {
     "data": {
      "text/plain": [
       "array([0.        , 0.01754386, 0.45614035, 1.        ])"
      ]
     },
     "execution_count": 24,
     "metadata": {},
     "output_type": "execute_result"
    }
   ],
   "source": [
    "fpr"
   ]
  },
  {
   "cell_type": "code",
   "execution_count": 25,
   "metadata": {},
   "outputs": [
    {
     "data": {
      "text/plain": [
       "array([0.        , 0.        , 0.44736842, 1.        ])"
      ]
     },
     "execution_count": 25,
     "metadata": {},
     "output_type": "execute_result"
    }
   ],
   "source": [
    "tpr"
   ]
  },
  {
   "cell_type": "code",
   "execution_count": 26,
   "metadata": {},
   "outputs": [
    {
     "data": {
      "text/plain": [
       "array([3, 2, 1, 0], dtype=int64)"
      ]
     },
     "execution_count": 26,
     "metadata": {},
     "output_type": "execute_result"
    }
   ],
   "source": [
    "thresholds"
   ]
  },
  {
   "cell_type": "markdown",
   "metadata": {},
   "source": [
    "##### ROC Curve"
   ]
  },
  {
   "cell_type": "code",
   "execution_count": 27,
   "metadata": {},
   "outputs": [
    {
     "data": {
      "image/png": "[encoded data removed]",
      "text/plain": [
       "<Figure size 432x288 with 1 Axes>"
      ]
     },
     "metadata": {
      "needs_background": "light"
     },
     "output_type": "display_data"
    }
   ],
   "source": [
    "roc_auc = auc(fpr, tpr)\n",
    "display = RocCurveDisplay(fpr=fpr, tpr=tpr, roc_auc=roc_auc,                                          \n",
    "                            estimator_name='estimator')\n",
    "display.plot()  \n",
    "plt.show()"
   ]
  },
  {
   "cell_type": "markdown",
   "metadata": {},
   "source": [
    "# Test With a Recent Game\n",
    "\n",
    "Game Used: Man City vs Chelsea FA Cup (4/17/2021) -- Chelsea won (ie the Home Team won)\n",
    "\n",
    "Data came from these links and our data\n",
    "\n",
    "* https://www.espn.com/soccer/matchstats?gameId=597190\n",
    "* https://www.si.com/soccer/manchestercity/match-coverage/manchester-city-vs-chelsea-where-to-watch-team-news-referees-everything-you-need-to-know"
   ]
  },
  {
   "cell_type": "code",
   "execution_count": 28,
   "metadata": {},
   "outputs": [
    {
     "data": {
      "text/plain": [
       "['Season Encoding',\n",
       " 'Time Encoding',\n",
       " 'HomeTeam Encoding',\n",
       " 'AwayTeam Encoding',\n",
       " 'Referee Encoding',\n",
       " 'Fouls Called Per Game',\n",
       " 'HS',\n",
       " 'AS',\n",
       " 'HST',\n",
       " 'AST',\n",
       " 'HF',\n",
       " 'AF',\n",
       " 'HC',\n",
       " 'AC',\n",
       " 'HY',\n",
       " 'AY',\n",
       " 'HR',\n",
       " 'AR']"
      ]
     },
     "execution_count": 28,
     "metadata": {},
     "output_type": "execute_result"
    }
   ],
   "source": [
    "list(X.columns) # The values we need to make a prediction"
   ]
  },
  {
   "cell_type": "code",
   "execution_count": 29,
   "metadata": {},
   "outputs": [
    {
     "name": "stdout",
     "output_type": "stream",
     "text": [
      "[1]\n",
      "Incorrect! Chelsea, the Home Team, won.\n"
     ]
    }
   ],
   "source": [
    "# Data came from these links and our data\n",
    "\n",
    "test_game = np.array([\n",
    "    2, # 2 bc it took place in Spring\n",
    "    0, # 0 bc kickoff was at 12:32 (rounds to 12:30)\n",
    "    5, # Chelsea: 5 in the Team encoding\n",
    "    14, # Man City: 14 in the Team encoding\n",
    "    23, # Mike Dean was the referee\n",
    "    14, # got from our data\n",
    "    5, # HS\n",
    "    11, # AS\n",
    "    3, # HST\n",
    "    3, # AST\n",
    "    8, # HF\n",
    "    12, # AF\n",
    "    3, # HC \n",
    "    6, #AC\n",
    "    2, # HY\n",
    "    3, # AY\n",
    "    0, # HR\n",
    "    0, # AR\n",
    "            ]).reshape(1, -1)\n",
    "\n",
    "result = knn_clf.predict(test_game)\n",
    "print(result)\n",
    "\n",
    "if result[0] == 0:\n",
    "    print(\"Correct!\",end=' ')\n",
    "else:\n",
    "    print(\"Incorrect!\",end=' ')\n",
    "    \n",
    "print(\"Chelsea, the Home Team, won.\")"
   ]
  },
  {
   "cell_type": "markdown",
   "metadata": {},
   "source": [
    "# Now Will Try It Using Averages (How it's designed to be used)\n",
    "\n",
    "Note: Only used integer values, any decimal was cut off, there was no rounding (just floors the number). Eg, 16.75 would just be 16.\n",
    "\n",
    "Data sources links:\n",
    "\n",
    "* https://www.premierleague.com/stats/top/clubs/total_cross\n",
    "* https://www.premierleague.com/clubs/4/Chelsea/stats?se=363\n",
    "* https://www.premierleague.com/clubs/11/Manchester-City/stats?se=363"
   ]
  },
  {
   "cell_type": "code",
   "execution_count": 30,
   "metadata": {},
   "outputs": [
    {
     "name": "stdout",
     "output_type": "stream",
     "text": [
      "[0]\n",
      "Correct! Chelsea, the Home Team, won.\n"
     ]
    }
   ],
   "source": [
    "test_game_averages = np.array([\n",
    "    2, # 2 bc it took place in Spring\n",
    "    0, # 0 bc kickoff was at 12:32 (rounds to 12:30)\n",
    "    5, # Chelsea: 5 in the Team encoding\n",
    "    14, # Man City: 14 in the Team encoding\n",
    "    23, # Mike Dean was the referee\n",
    "    14, # got from our data\n",
    "    14, # Chelsea Shots per game avg\n",
    "    15, # Man City Shots per game avg \n",
    "    5, # Chelsea Shots on target per game avg\n",
    "    5, # Man City Shots on target per game avg \n",
    "    6, # Chelsea Fouls per game avg\n",
    "    5, # Man City Fouls per game avg \n",
    "    20, # Chelsea Crosses per game avg\n",
    "    16, # Man City Crosses per game avg \n",
    "    1, # Chelsea Yellow Cards per game avg\n",
    "    1, # Man City Yellow Cards per game avg \n",
    "    0, # Chelsea Red Cards per game avg\n",
    "    0, # Man City Red Cards per game avg \n",
    "]).reshape(1, -1)\n",
    "\n",
    "result = knn_clf.predict(test_game_averages)\n",
    "print(result)\n",
    "\n",
    "if result[0] == 0:\n",
    "    print(\"Correct!\",end=' ')\n",
    "else:\n",
    "    print(\"Incorrect!\",end=' ')\n",
    "    \n",
    "print(\"Chelsea, the Home Team, won.\")"
   ]
  },
  {
   "cell_type": "markdown",
   "metadata": {},
   "source": [
    "# Saves the Model"
   ]
  },
  {
   "cell_type": "code",
   "execution_count": 31,
   "metadata": {},
   "outputs": [],
   "source": [
    "filename = 'KNN_TimeData_Model.sav'"
   ]
  },
  {
   "cell_type": "code",
   "execution_count": 32,
   "metadata": {},
   "outputs": [],
   "source": [
    "pickle.dump(knn_clf, open(filename, 'wb'))"
   ]
  },
  {
   "cell_type": "code",
   "execution_count": null,
   "metadata": {},
   "outputs": [],
   "source": []
  }
 ],
 "metadata": {
  "kernelspec": {
   "display_name": "Python 3",
   "language": "python",
   "name": "python3"
  },
  "language_info": {
   "codemirror_mode": {
    "name": "ipython",
    "version": 3
   },
   "file_extension": ".py",
   "mimetype": "text/x-python",
   "name": "python",
   "nbconvert_exporter": "python",
   "pygments_lexer": "ipython3",
   "version": "3.8.3"
  }
 },
 "nbformat": 4,
 "nbformat_minor": 4
}
